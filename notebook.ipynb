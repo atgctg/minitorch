{
 "cells": [],
 "metadata": {
  "interpreter": {
   "hash": "2edef401dfbc4ce3548fd8a806c4cf8a803ba27855b675b0bad7f2383e27583e"
  },
  "kernelspec": {
   "display_name": "Python 3.9.13 ('minitorch')",
   "language": "python",
   "name": "python3"
  },
  "language_info": {
   "codemirror_mode": {
    "name": "ipython",
    "version": 3
   },
   "file_extension": ".py",
   "mimetype": "text/x-python",
   "name": "python",
   "nbconvert_exporter": "python",
   "pygments_lexer": "ipython3",
   "version": "3.9.13"
  },
  "orig_nbformat": 4
 },
 "nbformat": 4,
 "nbformat_minor": 2
}
